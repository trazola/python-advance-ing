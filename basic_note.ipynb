{
 "cells": [
  {
   "cell_type": "code",
   "execution_count": 1,
   "metadata": {},
   "outputs": [
    {
     "name": "stdout",
     "output_type": "stream",
     "text": [
      "Hello :)\n"
     ]
    }
   ],
   "source": [
    "print(\"Hello :)\")"
   ]
  },
  {
   "cell_type": "code",
   "execution_count": 2,
   "metadata": {},
   "outputs": [
    {
     "name": "stdout",
     "output_type": "stream",
     "text": [
      "The Zen of Python, by Tim Peters\n",
      "\n",
      "Beautiful is better than ugly.\n",
      "Explicit is better than implicit.\n",
      "Simple is better than complex.\n",
      "Complex is better than complicated.\n",
      "Flat is better than nested.\n",
      "Sparse is better than dense.\n",
      "Readability counts.\n",
      "Special cases aren't special enough to break the rules.\n",
      "Although practicality beats purity.\n",
      "Errors should never pass silently.\n",
      "Unless explicitly silenced.\n",
      "In the face of ambiguity, refuse the temptation to guess.\n",
      "There should be one-- and preferably only one --obvious way to do it.\n",
      "Although that way may not be obvious at first unless you're Dutch.\n",
      "Now is better than never.\n",
      "Although never is often better than *right* now.\n",
      "If the implementation is hard to explain, it's a bad idea.\n",
      "If the implementation is easy to explain, it may be a good idea.\n",
      "Namespaces are one honking great idea -- let's do more of those!\n"
     ]
    }
   ],
   "source": [
    "import this"
   ]
  },
  {
   "cell_type": "code",
   "execution_count": 3,
   "metadata": {},
   "outputs": [
    {
     "name": "stdout",
     "output_type": "stream",
     "text": [
      "2\n",
      "3\n",
      "4\n"
     ]
    }
   ],
   "source": [
    "start = 2\n",
    "end = 5\n",
    "for number in range(start, end):\n",
    "    print(number)"
   ]
  },
  {
   "cell_type": "code",
   "execution_count": 4,
   "metadata": {},
   "outputs": [
    {
     "data": {
      "text/plain": [
       "[1]"
      ]
     },
     "execution_count": 4,
     "metadata": {},
     "output_type": "execute_result"
    }
   ],
   "source": [
    "def get_numerical_interval(start, end):\n",
    "    numbers = []\n",
    "    for number in range(start, end):\n",
    "        numbers.append(number)\n",
    "    return numbers \n",
    "\n",
    "\n",
    "get_numerical_interval(start=1, end=2)   \n"
   ]
  },
  {
   "cell_type": "code",
   "execution_count": 5,
   "metadata": {},
   "outputs": [
    {
     "name": "stdout",
     "output_type": "stream",
     "text": [
      "[1, 2]\n",
      "[1]\n"
     ]
    }
   ],
   "source": [
    "def get_numerical_interval(start: int, end: int, close_numerical_range: bool = False) -> list[int]:\n",
    "    end_range = end + 1 if close_numerical_range else end\n",
    "    return [number for number in range(start, end_range)] # or list(range(start, end_range))\n",
    "\n",
    "print(get_numerical_interval(start=1, end=2, close_numerical_range=True))\n",
    "print(get_numerical_interval(start=1, end=2))\n"
   ]
  },
  {
   "cell_type": "code",
   "execution_count": 6,
   "metadata": {},
   "outputs": [],
   "source": [
    "# get_numerical_interval(start=1, end=200000000000000000000000000000000000000)   \n"
   ]
  },
  {
   "cell_type": "code",
   "execution_count": 7,
   "metadata": {},
   "outputs": [
    {
     "name": "stdout",
     "output_type": "stream",
     "text": [
      "[1, 2]\n"
     ]
    },
    {
     "ename": "ValueError",
     "evalue": "The number is too large.",
     "output_type": "error",
     "traceback": [
      "\u001b[0;31m---------------------------------------------------------------------------\u001b[0m",
      "\u001b[0;31mValueError\u001b[0m                                Traceback (most recent call last)",
      "\u001b[1;32m/home/trazola/Desktop/programming/training/python/python-for-advance/basic.ipynb Cell 7\u001b[0m line \u001b[0;36m1\n\u001b[1;32m      <a href='vscode-notebook-cell:/home/trazola/Desktop/programming/training/python/python-for-advance/basic.ipynb#W6sZmlsZQ%3D%3D?line=8'>9</a>\u001b[0m     \u001b[39mreturn\u001b[39;00m [number \u001b[39mfor\u001b[39;00m number \u001b[39min\u001b[39;00m \u001b[39mrange\u001b[39m(start, end_range)] \u001b[39m# or list(range(start, end_range))\u001b[39;00m\n\u001b[1;32m     <a href='vscode-notebook-cell:/home/trazola/Desktop/programming/training/python/python-for-advance/basic.ipynb#W6sZmlsZQ%3D%3D?line=10'>11</a>\u001b[0m \u001b[39mprint\u001b[39m(get_numerical_interval(start\u001b[39m=\u001b[39m\u001b[39m1\u001b[39m, end\u001b[39m=\u001b[39m\u001b[39m2\u001b[39m, close_numerical_range\u001b[39m=\u001b[39m\u001b[39mTrue\u001b[39;00m))\n\u001b[0;32m---> <a href='vscode-notebook-cell:/home/trazola/Desktop/programming/training/python/python-for-advance/basic.ipynb#W6sZmlsZQ%3D%3D?line=11'>12</a>\u001b[0m \u001b[39mprint\u001b[39m(get_numerical_interval(start\u001b[39m=\u001b[39;49m\u001b[39m2\u001b[39;49m, end\u001b[39m=\u001b[39;49m\u001b[39m200\u001b[39;49m))\n",
      "\u001b[1;32m/home/trazola/Desktop/programming/training/python/python-for-advance/basic.ipynb Cell 7\u001b[0m line \u001b[0;36m8\n\u001b[1;32m      <a href='vscode-notebook-cell:/home/trazola/Desktop/programming/training/python/python-for-advance/basic.ipynb#W6sZmlsZQ%3D%3D?line=5'>6</a>\u001b[0m \u001b[39mdef\u001b[39;00m \u001b[39mget_numerical_interval\u001b[39m(start: \u001b[39mint\u001b[39m, end: \u001b[39mint\u001b[39m, close_numerical_range: \u001b[39mbool\u001b[39m \u001b[39m=\u001b[39m \u001b[39mFalse\u001b[39;00m) \u001b[39m-\u001b[39m\u001b[39m>\u001b[39m \u001b[39mlist\u001b[39m[\u001b[39mint\u001b[39m]:\n\u001b[1;32m      <a href='vscode-notebook-cell:/home/trazola/Desktop/programming/training/python/python-for-advance/basic.ipynb#W6sZmlsZQ%3D%3D?line=6'>7</a>\u001b[0m     end_range \u001b[39m=\u001b[39m end \u001b[39m+\u001b[39m \u001b[39m1\u001b[39m \u001b[39mif\u001b[39;00m close_numerical_range \u001b[39melse\u001b[39;00m end\n\u001b[0;32m----> <a href='vscode-notebook-cell:/home/trazola/Desktop/programming/training/python/python-for-advance/basic.ipynb#W6sZmlsZQ%3D%3D?line=7'>8</a>\u001b[0m     end_range_validator(number\u001b[39m=\u001b[39;49mend_range)\n\u001b[1;32m      <a href='vscode-notebook-cell:/home/trazola/Desktop/programming/training/python/python-for-advance/basic.ipynb#W6sZmlsZQ%3D%3D?line=8'>9</a>\u001b[0m     \u001b[39mreturn\u001b[39;00m [number \u001b[39mfor\u001b[39;00m number \u001b[39min\u001b[39;00m \u001b[39mrange\u001b[39m(start, end_range)]\n",
      "\u001b[1;32m/home/trazola/Desktop/programming/training/python/python-for-advance/basic.ipynb Cell 7\u001b[0m line \u001b[0;36m3\n\u001b[1;32m      <a href='vscode-notebook-cell:/home/trazola/Desktop/programming/training/python/python-for-advance/basic.ipynb#W6sZmlsZQ%3D%3D?line=0'>1</a>\u001b[0m \u001b[39mdef\u001b[39;00m \u001b[39mend_range_validator\u001b[39m(number: \u001b[39mint\u001b[39m) \u001b[39m-\u001b[39m\u001b[39m>\u001b[39m \u001b[39mNone\u001b[39;00m:\n\u001b[1;32m      <a href='vscode-notebook-cell:/home/trazola/Desktop/programming/training/python/python-for-advance/basic.ipynb#W6sZmlsZQ%3D%3D?line=1'>2</a>\u001b[0m     \u001b[39mif\u001b[39;00m number \u001b[39m>\u001b[39m \u001b[39m100\u001b[39m:\n\u001b[0;32m----> <a href='vscode-notebook-cell:/home/trazola/Desktop/programming/training/python/python-for-advance/basic.ipynb#W6sZmlsZQ%3D%3D?line=2'>3</a>\u001b[0m         \u001b[39mraise\u001b[39;00m \u001b[39mValueError\u001b[39;00m(\u001b[39m\"\u001b[39m\u001b[39mThe number is too large.\u001b[39m\u001b[39m\"\u001b[39m)\n",
      "\u001b[0;31mValueError\u001b[0m: The number is too large."
     ]
    }
   ],
   "source": [
    "def end_range_validator(number: int) -> None:\n",
    "    if number > 100:\n",
    "        raise ValueError(\"The number is too large.\")\n",
    "\n",
    "\n",
    "def get_numerical_interval(start: int, end: int, close_numerical_range: bool = False) -> list[int]:\n",
    "    end_range = end + 1 if close_numerical_range else end\n",
    "    end_range_validator(number=end_range)\n",
    "    return [number for number in range(start, end_range)] # or list(range(start, end_range))\n",
    "\n",
    "print(get_numerical_interval(start=1, end=2, close_numerical_range=True))\n",
    "print(get_numerical_interval(start=2, end=200))"
   ]
  },
  {
   "cell_type": "code",
   "execution_count": 8,
   "metadata": {},
   "outputs": [],
   "source": [
    "class NumberGenerator:\n",
    "    def __init__(self, start: int, end: int, close_numerical_range: bool = False) -> None:\n",
    "        self.start = start\n",
    "        self.end = end\n",
    "        self.close_numerical_range = close_numerical_range\n",
    "      \n",
    "    def validate(self, number: int) -> None:\n",
    "        if number > 100:\n",
    "            raise ValueError(\"The number is too large.\")\n",
    "        \n",
    "    def _get_end_range(self) -> int:\n",
    "        return self.end + 1 if self.close_numerical_range else self.end\n",
    "    \n",
    "    # def _get_end_range(self) -> int:\n",
    "    #     if self.close_numerical_range:\n",
    "    #         return self.end + 1\n",
    "    #     return self.end\n",
    "\n",
    "    def get_numerical_interval(self) -> list[int]:\n",
    "        end_range = self._get_end_range()\n",
    "        self.validate(number=end_range)\n",
    "        return [number for number in range(self.start, end_range)] \n",
    "    \n",
    "    "
   ]
  },
  {
   "cell_type": "code",
   "execution_count": 9,
   "metadata": {},
   "outputs": [
    {
     "name": "stdout",
     "output_type": "stream",
     "text": [
      "[2, 3, 4, 5, 6, 7, 8, 9, 10, 11, 12, 13, 14, 15, 16, 17, 18, 19, 20]\n"
     ]
    }
   ],
   "source": [
    "number_generator = NumberGenerator(start=2, end=20, close_numerical_range=True)\n",
    "print(number_generator.get_numerical_interval())"
   ]
  },
  {
   "cell_type": "code",
   "execution_count": 10,
   "metadata": {},
   "outputs": [
    {
     "name": "stdout",
     "output_type": "stream",
     "text": [
      "[]\n"
     ]
    }
   ],
   "source": [
    "class SuperNumberGenerator(NumberGenerator):\n",
    "    def validate(self, number: int) -> None:\n",
    "        super().validate(number=number)\n",
    "        if not number:\n",
    "            raise ValueError(\"The number is to small\")\n",
    "\n",
    "number_generator = SuperNumberGenerator(start=2, end=1)\n",
    "print(number_generator.get_numerical_interval())"
   ]
  },
  {
   "cell_type": "code",
   "execution_count": 12,
   "metadata": {},
   "outputs": [],
   "source": [
    "from typing import Generator\n",
    "\n",
    "\n",
    "class NumberGenerator:\n",
    "    def __init__(self, start: int, end: int, close_numerical_range: bool = False) -> None:\n",
    "        self.start = start\n",
    "        self.end = end\n",
    "        self.close_numerical_range = close_numerical_range\n",
    "      \n",
    "    def validate(self, number: int) -> None:\n",
    "        if number > 100:\n",
    "            raise ValueError(\"The number is too large.\")\n",
    "        \n",
    "    def _get_end_range(self) -> int:\n",
    "        return self.end + 1 if self.close_numerical_range else self.end\n",
    "    \n",
    "    # def _get_end_range(self) -> int:\n",
    "    #     if self.close_numerical_range:\n",
    "    #         return self.end + 1\n",
    "    #     return self.end\n",
    "\n",
    "    def get_numerical_interval(self) -> Generator[int, None, None]:\n",
    "        end_range = self._get_end_range()\n",
    "        self.validate(number=end_range)\n",
    "        return (number for number in range(self.start, end_range))\n",
    "    "
   ]
  },
  {
   "cell_type": "code",
   "execution_count": 15,
   "metadata": {},
   "outputs": [
    {
     "name": "stdout",
     "output_type": "stream",
     "text": [
      "<generator object NumberGenerator.get_numerical_interval.<locals>.<genexpr> at 0x7f736c7165a0>\n",
      "2\n",
      "3\n",
      "4\n",
      "5\n",
      "6\n",
      "7\n",
      "8\n",
      "9\n",
      "10\n",
      "11\n",
      "12\n",
      "13\n",
      "14\n",
      "15\n",
      "16\n",
      "17\n",
      "18\n",
      "19\n",
      "20\n"
     ]
    }
   ],
   "source": [
    "number_generator = NumberGenerator(start=2, end=20, close_numerical_range=True)\n",
    "print(number_generator.get_numerical_interval())\n",
    "for number in number_generator.get_numerical_interval():\n",
    "    print(number)"
   ]
  },
  {
   "cell_type": "code",
   "execution_count": 33,
   "metadata": {},
   "outputs": [
    {
     "data": {
      "text/plain": [
       "range(1, 2)"
      ]
     },
     "execution_count": 33,
     "metadata": {},
     "output_type": "execute_result"
    }
   ],
   "source": [
    "range(1, 2)"
   ]
  },
  {
   "cell_type": "code",
   "execution_count": 17,
   "metadata": {},
   "outputs": [],
   "source": [
    "my_generator = range(1, 2)"
   ]
  },
  {
   "cell_type": "code",
   "execution_count": 31,
   "metadata": {},
   "outputs": [
    {
     "name": "stdout",
     "output_type": "stream",
     "text": [
      "1\n"
     ]
    }
   ],
   "source": [
    "for number in my_generator:\n",
    "    print(number)"
   ]
  },
  {
   "cell_type": "code",
   "execution_count": 27,
   "metadata": {},
   "outputs": [],
   "source": [
    "my_second_generator = (number for number in range(1, 2))"
   ]
  },
  {
   "cell_type": "code",
   "execution_count": 29,
   "metadata": {},
   "outputs": [],
   "source": [
    "for number in my_second_generator:\n",
    "    print(number)"
   ]
  },
  {
   "cell_type": "code",
   "execution_count": 40,
   "metadata": {},
   "outputs": [],
   "source": [
    "from pydantic import BaseModel, Field\n",
    "\n",
    "class RangeInput(BaseModel):\n",
    "    start: int = Field(le=100, ge=0)\n",
    "    end: int = Field(le=100,  ge=0)\n"
   ]
  },
  {
   "cell_type": "code",
   "execution_count": 45,
   "metadata": {},
   "outputs": [],
   "source": [
    "def range_factory(input: RangeInput, close_numerical_range=True) -> range:\n",
    "\n",
    "    def get_close_numerical_range() -> int:\n",
    "        if close_numerical_range:\n",
    "            return input.end + 1\n",
    "        return input.end\n",
    "    \n",
    "    return range(input.start, get_close_numerical_range())"
   ]
  },
  {
   "cell_type": "code",
   "execution_count": 48,
   "metadata": {},
   "outputs": [],
   "source": [
    "number_generator = range_factory(input=RangeInput(start=2, end=3), close_numerical_range=False)"
   ]
  },
  {
   "cell_type": "code",
   "execution_count": 52,
   "metadata": {},
   "outputs": [
    {
     "data": {
      "text/plain": [
       "[2]"
      ]
     },
     "execution_count": 52,
     "metadata": {},
     "output_type": "execute_result"
    }
   ],
   "source": [
    "list(number_generator)\n"
   ]
  },
  {
   "cell_type": "code",
   "execution_count": null,
   "metadata": {},
   "outputs": [],
   "source": []
  }
 ],
 "metadata": {
  "kernelspec": {
   "display_name": "python-for-advance-J7Mu14G9-py3.11",
   "language": "python",
   "name": "python3"
  },
  "language_info": {
   "codemirror_mode": {
    "name": "ipython",
    "version": 3
   },
   "file_extension": ".py",
   "mimetype": "text/x-python",
   "name": "python",
   "nbconvert_exporter": "python",
   "pygments_lexer": "ipython3",
   "version": "3.11.6"
  }
 },
 "nbformat": 4,
 "nbformat_minor": 2
}
