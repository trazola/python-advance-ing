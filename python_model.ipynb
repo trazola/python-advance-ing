{
 "cells": [
  {
   "cell_type": "markdown",
   "metadata": {},
   "source": [
    "ZAimplementuj prosta klase Vektora, ktora oblsuguje podstawowe operacje takie jak:\n",
    "\n",
    "dodawanie (__add__)\n",
    "\n",
    "odejmowanie (__sub__)\n",
    "\n",
    "mnozenie przez scalar (__mul__)\n",
    "\n",
    "wyswietlanie go (__repr__)\n",
    "\n",
    "czy vektor jest prawdziwy czy falszywy (Vektor ma wartosc True jesli wspozedna x lub y ma wartosc rozna od 0) (__bool__)"
   ]
  },
  {
   "cell_type": "code",
   "execution_count": 4,
   "metadata": {},
   "outputs": [
    {
     "ename": "TypeError",
     "evalue": "unsupported operand type(s) for +: 'Vector' and 'Vector'",
     "output_type": "error",
     "traceback": [
      "\u001b[0;31m---------------------------------------------------------------------------\u001b[0m",
      "\u001b[0;31mTypeError\u001b[0m                                 Traceback (most recent call last)",
      "\u001b[1;32m/home/trazola/Desktop/programming/training/python/python-for-advance/exercises/python_model.ipynb Cell 2\u001b[0m line \u001b[0;36m1\n\u001b[1;32m     <a href='vscode-notebook-cell:/home/trazola/Desktop/programming/training/python/python-for-advance/exercises/python_model.ipynb#W3sZmlsZQ%3D%3D?line=9'>10</a>\u001b[0m second_vector \u001b[39m=\u001b[39m Vector(x\u001b[39m=\u001b[39m\u001b[39m2\u001b[39m, y\u001b[39m=\u001b[39m\u001b[39m4\u001b[39m)\n\u001b[1;32m     <a href='vscode-notebook-cell:/home/trazola/Desktop/programming/training/python/python-for-advance/exercises/python_model.ipynb#W3sZmlsZQ%3D%3D?line=10'>11</a>\u001b[0m third_vector \u001b[39m=\u001b[39m Vector(x\u001b[39m=\u001b[39m\u001b[39m0\u001b[39m, y\u001b[39m=\u001b[39m\u001b[39m0\u001b[39m)\n\u001b[0;32m---> <a href='vscode-notebook-cell:/home/trazola/Desktop/programming/training/python/python-for-advance/exercises/python_model.ipynb#W3sZmlsZQ%3D%3D?line=12'>13</a>\u001b[0m \u001b[39massert\u001b[39;00m first_vector \u001b[39m+\u001b[39;49m second_vector \u001b[39m==\u001b[39m Vector(x\u001b[39m=\u001b[39m\u001b[39m3\u001b[39m, y\u001b[39m=\u001b[39m\u001b[39m6\u001b[39m)\n\u001b[1;32m     <a href='vscode-notebook-cell:/home/trazola/Desktop/programming/training/python/python-for-advance/exercises/python_model.ipynb#W3sZmlsZQ%3D%3D?line=13'>14</a>\u001b[0m \u001b[39massert\u001b[39;00m first_vector \u001b[39m-\u001b[39m second_vector \u001b[39m==\u001b[39m Vector(x\u001b[39m=\u001b[39m\u001b[39m-\u001b[39m\u001b[39m1\u001b[39m, y\u001b[39m=\u001b[39m\u001b[39m-\u001b[39m\u001b[39m2\u001b[39m)\n\u001b[1;32m     <a href='vscode-notebook-cell:/home/trazola/Desktop/programming/training/python/python-for-advance/exercises/python_model.ipynb#W3sZmlsZQ%3D%3D?line=14'>15</a>\u001b[0m \u001b[39massert\u001b[39;00m first_vector \u001b[39m*\u001b[39m \u001b[39m2\u001b[39m \u001b[39m==\u001b[39m Vector(x\u001b[39m=\u001b[39m\u001b[39m2\u001b[39m, y\u001b[39m=\u001b[39m\u001b[39m4\u001b[39m)\n",
      "\u001b[0;31mTypeError\u001b[0m: unsupported operand type(s) for +: 'Vector' and 'Vector'"
     ]
    }
   ],
   "source": [
    "\n",
    "class Vector:\n",
    "\n",
    "    def __init__(self, x: int, y: int) -> None:\n",
    "        self.x = x\n",
    "        self.y = y\n",
    "\n",
    "\n",
    "\n",
    "first_vector = Vector(x=1, y=2)\n",
    "second_vector = Vector(x=2, y=4)\n",
    "third_vector = Vector(x=0, y=0)\n",
    "\n",
    "assert first_vector + second_vector == Vector(x=3, y=6)\n",
    "assert first_vector - second_vector == Vector(x=-1, y=-2)\n",
    "assert first_vector * 2 == Vector(x=2, y=4)\n",
    "assert bool(third_vector) is False\n",
    "assert bool(first_vector) is True\n",
    "assert repr(first_vector) == 'Vector(x=1, y=2)'"
   ]
  },
  {
   "cell_type": "code",
   "execution_count": null,
   "metadata": {},
   "outputs": [],
   "source": []
  }
 ],
 "metadata": {
  "kernelspec": {
   "display_name": "python-for-advance-J7Mu14G9-py3.11",
   "language": "python",
   "name": "python3"
  },
  "language_info": {
   "codemirror_mode": {
    "name": "ipython",
    "version": 3
   },
   "file_extension": ".py",
   "mimetype": "text/x-python",
   "name": "python",
   "nbconvert_exporter": "python",
   "pygments_lexer": "ipython3",
   "version": "3.11.6"
  }
 },
 "nbformat": 4,
 "nbformat_minor": 2
}
