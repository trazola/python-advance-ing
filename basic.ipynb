{
 "cells": [
  {
   "cell_type": "markdown",
   "metadata": {},
   "source": [
    "1. Stwórz prostą funkcje, która sprawdza czy dana liczba jest w podanym Zbiorze zamknietym"
   ]
  },
  {
   "cell_type": "code",
   "execution_count": 3,
   "metadata": {},
   "outputs": [
    {
     "ename": "AssertionError",
     "evalue": "",
     "output_type": "error",
     "traceback": [
      "\u001b[0;31m---------------------------------------------------------------------------\u001b[0m",
      "\u001b[0;31mAssertionError\u001b[0m                            Traceback (most recent call last)",
      "\u001b[1;32m/home/trazola/Desktop/programming/training/python/python-for-advance/exercises/basic.ipynb Cell 2\u001b[0m line \u001b[0;36m4\n\u001b[1;32m      <a href='vscode-notebook-cell:/home/trazola/Desktop/programming/training/python/python-for-advance/exercises/basic.ipynb#W3sZmlsZQ%3D%3D?line=0'>1</a>\u001b[0m \u001b[39mdef\u001b[39;00m \u001b[39mvalidate_range\u001b[39m(start_range: \u001b[39mint\u001b[39m, end_range: \u001b[39mint\u001b[39m, number: \u001b[39mint\u001b[39m ) \u001b[39m-\u001b[39m\u001b[39m>\u001b[39m \u001b[39mbool\u001b[39m:\n\u001b[1;32m      <a href='vscode-notebook-cell:/home/trazola/Desktop/programming/training/python/python-for-advance/exercises/basic.ipynb#W3sZmlsZQ%3D%3D?line=1'>2</a>\u001b[0m     \u001b[39m.\u001b[39m\u001b[39m.\u001b[39m\u001b[39m.\u001b[39m\n\u001b[0;32m----> <a href='vscode-notebook-cell:/home/trazola/Desktop/programming/training/python/python-for-advance/exercises/basic.ipynb#W3sZmlsZQ%3D%3D?line=3'>4</a>\u001b[0m \u001b[39massert\u001b[39;00m validate_range(start_range\u001b[39m=\u001b[39m\u001b[39m1\u001b[39m, end_range\u001b[39m=\u001b[39m\u001b[39m2\u001b[39m, number\u001b[39m=\u001b[39m\u001b[39m1\u001b[39m) \u001b[39mis\u001b[39;00m \u001b[39mTrue\u001b[39;00m\n\u001b[1;32m      <a href='vscode-notebook-cell:/home/trazola/Desktop/programming/training/python/python-for-advance/exercises/basic.ipynb#W3sZmlsZQ%3D%3D?line=4'>5</a>\u001b[0m \u001b[39massert\u001b[39;00m validate_range(start_range\u001b[39m=\u001b[39m\u001b[39m1\u001b[39m, end_range\u001b[39m=\u001b[39m\u001b[39m2\u001b[39m, number\u001b[39m=\u001b[39m\u001b[39m2\u001b[39m) \u001b[39mis\u001b[39;00m \u001b[39mTrue\u001b[39;00m\n\u001b[1;32m      <a href='vscode-notebook-cell:/home/trazola/Desktop/programming/training/python/python-for-advance/exercises/basic.ipynb#W3sZmlsZQ%3D%3D?line=5'>6</a>\u001b[0m \u001b[39massert\u001b[39;00m validate_range(start_range\u001b[39m=\u001b[39m\u001b[39m1\u001b[39m, end_range\u001b[39m=\u001b[39m\u001b[39m2\u001b[39m, number\u001b[39m=\u001b[39m\u001b[39m3\u001b[39m) \u001b[39mis\u001b[39;00m \u001b[39mFalse\u001b[39;00m\n",
      "\u001b[0;31mAssertionError\u001b[0m: "
     ]
    }
   ],
   "source": [
    "def validate_range(start_range: int, end_range: int, number: int ) -> bool:\n",
    "    ...\n",
    "\n",
    "assert validate_range(start_range=1, end_range=2, number=1) is True\n",
    "assert validate_range(start_range=1, end_range=2, number=2) is True\n",
    "assert validate_range(start_range=1, end_range=2, number=3) is False"
   ]
  },
  {
   "cell_type": "markdown",
   "metadata": {},
   "source": [
    "2. Zaimplementuj wlasna implementacje range, ktory nie zawiera pythonowego range. \n",
    "...."
   ]
  },
  {
   "cell_type": "code",
   "execution_count": 5,
   "metadata": {},
   "outputs": [],
   "source": [
    "class CustomRange:\n",
    "    def __init__(self, start: int, end: int) -> None:\n",
    "        ...\n",
    "\n",
    "custom_range = CustomRange(start=1, end=3)\n"
   ]
  },
  {
   "cell_type": "code",
   "execution_count": null,
   "metadata": {},
   "outputs": [],
   "source": []
  }
 ],
 "metadata": {
  "kernelspec": {
   "display_name": "python-for-advance-J7Mu14G9-py3.11",
   "language": "python",
   "name": "python3"
  },
  "language_info": {
   "codemirror_mode": {
    "name": "ipython",
    "version": 3
   },
   "file_extension": ".py",
   "mimetype": "text/x-python",
   "name": "python",
   "nbconvert_exporter": "python",
   "pygments_lexer": "ipython3",
   "version": "3.11.6"
  }
 },
 "nbformat": 4,
 "nbformat_minor": 2
}
