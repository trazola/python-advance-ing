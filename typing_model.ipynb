{
 "cells": [
  {
   "cell_type": "code",
   "execution_count": null,
   "metadata": {},
   "outputs": [],
   "source": [
    "%load_ext nb_mypy\n",
    "%nb_mypy"
   ]
  },
  {
   "cell_type": "code",
   "execution_count": null,
   "metadata": {},
   "outputs": [],
   "source": [
    "\n",
    "def add(first: int, second: int) -> int:\n",
    "    return first + second"
   ]
  },
  {
   "cell_type": "code",
   "execution_count": null,
   "metadata": {},
   "outputs": [],
   "source": [
    "add(first=1, second=2)"
   ]
  },
  {
   "cell_type": "code",
   "execution_count": null,
   "metadata": {},
   "outputs": [],
   "source": [
    "add(first=\"1\", second=\"3\")"
   ]
  },
  {
   "cell_type": "markdown",
   "metadata": {},
   "source": [
    "# Historyjka\n",
    "\n",
    "Użytkownik, który jest częścia systemu zawiera identyfikator. Jest on dowolnym ciągiem tekstowym, który jest unikatowy. Dodatkowo zawiera rowniez imie.\n",
    "\n"
   ]
  },
  {
   "cell_type": "code",
   "execution_count": null,
   "metadata": {},
   "outputs": [],
   "source": [
    "from dataclasses import  dataclass\n",
    "\n",
    "@dataclass\n",
    "class User:\n",
    "    id: str\n",
    "    name: str\n",
    "\n",
    "\n",
    "@dataclass\n",
    "class Database:\n",
    "    def __post_init__(self) -> None:\n",
    "        self.users: dict[str, User] = {}\n",
    "\n",
    "    def add(self, user: User) -> None:\n",
    "        if user.id in self.users:\n",
    "            raise ValueError(\"Given user already existed.\")\n",
    "        self.users[user.id] = user\n",
    "\n",
    "    def get(self, id_: str) -> User | None:\n",
    "        return self.users.get(id_)"
   ]
  },
  {
   "cell_type": "code",
   "execution_count": null,
   "metadata": {},
   "outputs": [],
   "source": [
    "database = Database()"
   ]
  },
  {
   "cell_type": "code",
   "execution_count": null,
   "metadata": {},
   "outputs": [],
   "source": [
    "user = User(id=\"1\", name=\"Jarek\")"
   ]
  },
  {
   "cell_type": "code",
   "execution_count": null,
   "metadata": {},
   "outputs": [],
   "source": [
    "database.add(user=user)"
   ]
  },
  {
   "cell_type": "code",
   "execution_count": null,
   "metadata": {},
   "outputs": [],
   "source": [
    "database.get(id_=\"1\")"
   ]
  },
  {
   "cell_type": "code",
   "execution_count": null,
   "metadata": {},
   "outputs": [],
   "source": [
    "database.get(\"Jarek\")"
   ]
  },
  {
   "cell_type": "code",
   "execution_count": null,
   "metadata": {},
   "outputs": [],
   "source": [
    "from dataclasses import  dataclass\n",
    "from typing import TypeAlias\n",
    "\n",
    "UserId: TypeAlias = str\n",
    "\n",
    "@dataclass\n",
    "class User:\n",
    "    id: UserId\n",
    "    name: str\n",
    "\n",
    "\n",
    "@dataclass\n",
    "class Database:\n",
    "    def __post_init__(self) -> None:\n",
    "        self.users: dict[UserId, User] = {}\n",
    "\n",
    "    def add(self, user: User) -> None:\n",
    "        if user.id in self.users:\n",
    "            raise ValueError(\"Given user already existed.\")\n",
    "        self.users[user.id] = user\n",
    "\n",
    "    def get(self, id_: UserId) -> User | None:\n",
    "        return self.users.get(id_)"
   ]
  },
  {
   "cell_type": "code",
   "execution_count": null,
   "metadata": {},
   "outputs": [],
   "source": [
    "database = Database()\n",
    "\n",
    "user = User(id=\"1\", name=\"Jarek\")\n",
    "database.add(user=user)\n",
    "database.get(id_=\"Jarek\")"
   ]
  },
  {
   "cell_type": "code",
   "execution_count": null,
   "metadata": {},
   "outputs": [],
   "source": [
    "from dataclasses import  dataclass\n",
    "from typing import NewType\n",
    "\n",
    "UserId = NewType(\"UserId\", str)\n",
    "\n",
    "\n",
    "@dataclass\n",
    "class User:\n",
    "    id: UserId\n",
    "    name: str\n",
    "\n",
    "\n",
    "@dataclass\n",
    "class Database:\n",
    "    def __post_init__(self) -> None:\n",
    "        self.users: dict[UserId, User] = {}\n",
    "\n",
    "    def add(self, user: User) -> None:\n",
    "        if user.id in self.users:\n",
    "            raise ValueError(\"Given user already existed.\")\n",
    "        self.users[user.id] = user\n",
    "\n",
    "    def get(self, id_: UserId) -> User | None:\n",
    "        return self.users.get(id_)"
   ]
  },
  {
   "cell_type": "code",
   "execution_count": null,
   "metadata": {},
   "outputs": [],
   "source": [
    "database = Database()\n",
    "\n",
    "user = User(id=\"1\", name=\"Jarek\")\n",
    "database.add(user=user)\n",
    "database.get(id_=\"Jarek\")"
   ]
  },
  {
   "cell_type": "markdown",
   "metadata": {},
   "source": [
    "# Historyjka\n",
    "Do roznych operacji potrzebujemy implementacji stosu jednego typu. W naszym przypadku jest to niezwykle wazne, zeby nie mieszac danego typu"
   ]
  },
  {
   "cell_type": "code",
   "execution_count": null,
   "metadata": {},
   "outputs": [],
   "source": [
    "from dataclasses import dataclass\n",
    "\n",
    "\n",
    "@dataclass\n",
    "class Stack:\n",
    "    def __post_init__(self) -> None:\n",
    "        self.items: list[int | str] = []\n",
    "\n",
    "    def push(self, item: int | str) -> None:\n",
    "        self.items.append(item)\n",
    "\n",
    "    def pop(self) -> int | str:\n",
    "        if self.is_empty:\n",
    "            raise ValueError(\"Stack is empty\")\n",
    "        return self.items.pop()\n",
    "\n",
    "    @property\n",
    "    def is_empty(self) -> bool:\n",
    "        return not self.items"
   ]
  },
  {
   "cell_type": "code",
   "execution_count": null,
   "metadata": {},
   "outputs": [],
   "source": [
    "stack = Stack()\n",
    "stack.push(item=\"1\")\n",
    "stack.push(item=1)"
   ]
  },
  {
   "cell_type": "code",
   "execution_count": null,
   "metadata": {},
   "outputs": [],
   "source": [
    "add(first=stack.pop(), second=2)"
   ]
  },
  {
   "cell_type": "code",
   "execution_count": null,
   "metadata": {},
   "outputs": [],
   "source": []
  },
  {
   "cell_type": "code",
   "execution_count": null,
   "metadata": {},
   "outputs": [],
   "source": []
  },
  {
   "cell_type": "code",
   "execution_count": null,
   "metadata": {},
   "outputs": [],
   "source": []
  },
  {
   "cell_type": "code",
   "execution_count": null,
   "metadata": {},
   "outputs": [],
   "source": []
  },
  {
   "cell_type": "code",
   "execution_count": null,
   "metadata": {},
   "outputs": [],
   "source": [
    "from typing import TypeVar, Generic\n",
    "from dataclasses import dataclass\n",
    "\n",
    "T = TypeVar('T')\n",
    "\n",
    "\n",
    "@dataclass\n",
    "class Stack(Generic[T]):\n",
    "    def __post_init__(self) -> None:\n",
    "        self.items: list[T] = []\n",
    "\n",
    "    def push(self, item: T) -> None:\n",
    "        self.items.append(item)\n",
    "\n",
    "    def pop(self) -> T:\n",
    "        if self.is_empty:\n",
    "            raise ValueError(\"Stack is empty\")\n",
    "        return self.items.pop()\n",
    "\n",
    "    @property\n",
    "    def is_empty(self) -> bool:\n",
    "        return not self.items"
   ]
  },
  {
   "cell_type": "code",
   "execution_count": null,
   "metadata": {},
   "outputs": [],
   "source": [
    "stack = Stack[int]()\n",
    "stack.push(item=1)\n",
    "stack.push(item=\"1\")\n",
    "add(first=stack.pop(), second=2)"
   ]
  },
  {
   "cell_type": "code",
   "execution_count": 2,
   "metadata": {},
   "outputs": [
    {
     "data": {
      "text/plain": [
       "'Führer'"
      ]
     },
     "execution_count": 2,
     "metadata": {},
     "output_type": "execute_result"
    }
   ],
   "source": [
    "nfd_form"
   ]
  },
  {
   "cell_type": "code",
   "execution_count": null,
   "metadata": {},
   "outputs": [],
   "source": []
  }
 ],
 "metadata": {
  "kernelspec": {
   "display_name": "python-for-advance-J7Mu14G9-py3.11",
   "language": "python",
   "name": "python3"
  },
  "language_info": {
   "codemirror_mode": {
    "name": "ipython",
    "version": 3
   },
   "file_extension": ".py",
   "mimetype": "text/x-python",
   "name": "python",
   "nbconvert_exporter": "python",
   "pygments_lexer": "ipython3",
   "version": "3.11.6"
  }
 },
 "nbformat": 4,
 "nbformat_minor": 2
}
