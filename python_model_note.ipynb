{
 "cells": [
  {
   "cell_type": "code",
   "execution_count": null,
   "metadata": {},
   "outputs": [],
   "source": [
    "1 + 3"
   ]
  },
  {
   "cell_type": "code",
   "execution_count": null,
   "metadata": {},
   "outputs": [],
   "source": [
    "int.__add__(1, 3)"
   ]
  },
  {
   "cell_type": "code",
   "execution_count": null,
   "metadata": {},
   "outputs": [],
   "source": [
    "len(\"Orange Code\")"
   ]
  },
  {
   "cell_type": "code",
   "execution_count": null,
   "metadata": {},
   "outputs": [],
   "source": [
    "from dataclasses import dataclass\n",
    "from enum import StrEnum\n",
    "from itertools import chain\n",
    "from typing import Generator\n",
    "\n",
    "\n",
    "class SuitEnum(StrEnum):\n",
    "    SPADES = \"spades\"\n",
    "    DIAMONDS = \"diamonds\"\n",
    "    CLUBS = \"clubs\"\n",
    "    HEARTS = \"hearts\"\n",
    "\n",
    "\n",
    "@dataclass(frozen=True)\n",
    "class Card:\n",
    "    rank: str\n",
    "    suit: SuitEnum\n",
    "\n",
    "\n",
    "@dataclass\n",
    "class Deck:\n",
    "    def __post_init__(self) -> None:\n",
    "        self._cards = list(self._generate_cards())\n",
    "\n",
    "    \n",
    "    def _generate_cards(self) -> Generator[Card, None, None]:\n",
    "        for suit in SuitEnum:\n",
    "            for rank in chain(range(1, 11), \"JQKA\"):\n",
    "                yield Card(rank=str(rank), suit=SuitEnum(suit.value))\n",
    "\n",
    "\n",
    "deck = Deck()\n"
   ]
  },
  {
   "cell_type": "code",
   "execution_count": null,
   "metadata": {},
   "outputs": [],
   "source": [
    "deck"
   ]
  },
  {
   "cell_type": "code",
   "execution_count": null,
   "metadata": {},
   "outputs": [],
   "source": [
    "deck._cards"
   ]
  },
  {
   "cell_type": "code",
   "execution_count": null,
   "metadata": {},
   "outputs": [],
   "source": [
    "@dataclass\n",
    "class Deck:\n",
    "    def __post_init__(self) -> None:\n",
    "        self._cards = list(self._generate_cards())\n",
    "\n",
    "    \n",
    "    def _generate_cards(self) -> Generator[Card, None, None]:\n",
    "        for suit in SuitEnum:\n",
    "            for rank in chain(range(1, 11), \"JQKA\"):\n",
    "                yield Card(rank=str(rank), suit=SuitEnum(suit.value))\n",
    "\n",
    "    \n",
    "    def __repr__(self) -> str:\n",
    "        return repr(self._cards)\n",
    "        \n",
    "\n",
    "    def __len__(self) -> int:\n",
    "        return len(self._cards)\n",
    "\n",
    "\n",
    "    def __getitem__(self, position: int) -> Card:\n",
    "        return self._cards[position]\n",
    "\n",
    "\n",
    "\n",
    "deck = Deck()\n",
    "print(deck)\n",
    "print(len(deck))\n",
    "print(deck[55])"
   ]
  },
  {
   "cell_type": "code",
   "execution_count": null,
   "metadata": {},
   "outputs": [],
   "source": [
    "for card in deck:\n",
    "    print(card)"
   ]
  },
  {
   "cell_type": "code",
   "execution_count": null,
   "metadata": {},
   "outputs": [],
   "source": [
    "from random import choice\n",
    "\n",
    "choice(deck)"
   ]
  },
  {
   "cell_type": "code",
   "execution_count": null,
   "metadata": {},
   "outputs": [],
   "source": [
    "help(tuple)"
   ]
  },
  {
   "cell_type": "code",
   "execution_count": null,
   "metadata": {},
   "outputs": [],
   "source": []
  }
 ],
 "metadata": {
  "kernelspec": {
   "display_name": "python-for-advance-J7Mu14G9-py3.11",
   "language": "python",
   "name": "python3"
  },
  "language_info": {
   "codemirror_mode": {
    "name": "ipython",
    "version": 3
   },
   "file_extension": ".py",
   "mimetype": "text/x-python",
   "name": "python",
   "nbconvert_exporter": "python",
   "pygments_lexer": "ipython3",
   "version": "3.11.6"
  }
 },
 "nbformat": 4,
 "nbformat_minor": 2
}
