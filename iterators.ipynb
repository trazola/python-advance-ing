{
 "cells": [
  {
   "cell_type": "code",
   "execution_count": 1,
   "metadata": {},
   "outputs": [],
   "source": [
    "examples = [1, 2, 3]"
   ]
  },
  {
   "cell_type": "code",
   "execution_count": 10,
   "metadata": {},
   "outputs": [],
   "source": [
    "example_iter = iter(examples)"
   ]
  },
  {
   "cell_type": "code",
   "execution_count": 11,
   "metadata": {},
   "outputs": [
    {
     "data": {
      "text/plain": [
       "[1, 2, 3]"
      ]
     },
     "execution_count": 11,
     "metadata": {},
     "output_type": "execute_result"
    }
   ],
   "source": [
    "list(example_iter)"
   ]
  },
  {
   "cell_type": "code",
   "execution_count": 12,
   "metadata": {},
   "outputs": [],
   "source": [
    "from collections.abc import Iterable, Iterator"
   ]
  },
  {
   "cell_type": "code",
   "execution_count": 13,
   "metadata": {},
   "outputs": [],
   "source": [
    "class MyIterable(Iterable):\n",
    "    ..."
   ]
  },
  {
   "cell_type": "code",
   "execution_count": 14,
   "metadata": {},
   "outputs": [
    {
     "ename": "TypeError",
     "evalue": "Can't instantiate abstract class MyIterable with abstract method __iter__",
     "output_type": "error",
     "traceback": [
      "\u001b[0;31m---------------------------------------------------------------------------\u001b[0m",
      "\u001b[0;31mTypeError\u001b[0m                                 Traceback (most recent call last)",
      "\u001b[1;32m/Users/dv30kj/trainee/python-for-advance/iterators.ipynb Cell 6\u001b[0m line \u001b[0;36m1\n\u001b[0;32m----> <a href='vscode-notebook-cell:/Users/dv30kj/trainee/python-for-advance/iterators.ipynb#W5sZmlsZQ%3D%3D?line=0'>1</a>\u001b[0m MyIterable()\n",
      "\u001b[0;31mTypeError\u001b[0m: Can't instantiate abstract class MyIterable with abstract method __iter__"
     ]
    }
   ],
   "source": [
    "MyIterable()"
   ]
  },
  {
   "cell_type": "code",
   "execution_count": 15,
   "metadata": {},
   "outputs": [],
   "source": [
    "class MyIterator(Iterator):\n",
    "    ..."
   ]
  },
  {
   "cell_type": "code",
   "execution_count": 16,
   "metadata": {},
   "outputs": [],
   "source": [
    "from dataclasses import  dataclass\n",
    "from itertools import  count\n",
    "from collections.abc import Generator, Iterator, Iterable\n",
    "\n",
    "\n",
    "@dataclass\n",
    "class NumberFactory:\n",
    "    def __iter__(self) -> Iterator[int]:\n",
    "        yield from count()\n",
    "    "
   ]
  },
  {
   "cell_type": "markdown",
   "metadata": {},
   "source": [
    "Zaimplementuj generator numeru dokumentu, ktory składa się z następuącego formatu:\n",
    "\n",
    "DEMO | PROD - 2023/11/20 - <SEQ> - <UUID4>\n",
    "\n",
    "\"DEMO - 2023/11/20 - 1 - UUID4\"\n",
    "\n",
    "\"PROD - 2023/11/20 - 1 - UUID4\""
   ]
  },
  {
   "cell_type": "markdown",
   "metadata": {},
   "source": []
  }
 ],
 "metadata": {
  "kernelspec": {
   "display_name": "predator-mbIod4j2-py3.11",
   "language": "python",
   "name": "python3"
  },
  "language_info": {
   "codemirror_mode": {
    "name": "ipython",
    "version": 3
   },
   "file_extension": ".py",
   "mimetype": "text/x-python",
   "name": "python",
   "nbconvert_exporter": "python",
   "pygments_lexer": "ipython3",
   "version": "3.11.5"
  }
 },
 "nbformat": 4,
 "nbformat_minor": 2
}
